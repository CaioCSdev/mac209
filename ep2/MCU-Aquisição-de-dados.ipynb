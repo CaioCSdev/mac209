{
 "cells": [
  {
   "cell_type": "markdown",
   "metadata": {},
   "source": [
    "<h1 style=\"text-align: center\"> Aquisição de Dados - Movimento Circular Uniforme </h1>\n",
    "\n",
    "<img src=\"media/mcu.png\" alt=\"spinning chair with cellphone attached\" style=\"width:40%;\"/>"
   ]
  },
  {
   "cell_type": "markdown",
   "metadata": {},
   "source": [
    "## O experimento:\n",
    "\n",
    "Realizamos um experimento para simular um movimento circular uniforme. Algo que realiza um movimento a velocidade radial constante `w`, ao redor de um ponto fixo sempre a uma distância constante `r`.\n",
    "\n",
    "Para simularmos esse movimento fomos ao laboratório de física experimental, lá encontramos um equipamento que viabilizou o nosso experimento: um baquinho sobre uma plataforma giratória (imagem acima).\n",
    "\n",
    "O experimento consistiu em girar o banquinho à velocidade constante, enquanto um sensor preso a banqueta registrava as variações de aceleração. Para rotacionar a velocidade constante utilizamos marcações ao longo da circunferência, um metrônomo marcando a passagem do tempo, e uma pessoa que girava o banquinho: a cada tique do metrônomo o banquinho deveria estar em alguma marcação expecífica.\n",
    "\n",
    "Para as marcações usamos 4 halteres, uma a cada 90 graus. Para a marcação do tempo utilizamos o metrônomo, a 60 batidas por minuto ( 60 bpm ). Com isso realizamos o experimento em duas variações:\n",
    " * 15 rotações por minuto, 15 rpm: a cada tique o celular deveria estar de frente para **o próximo haltere**, como havia 1 tique por segundo, 4 halteres, a cada 4 segundos uma rotação era completada,  $ 1min = 60 s => \\dfrac{60}{4} = 15  => 15rpm$\n",
    " * 60 rpm: a cada tique o celular deveria estar de frente para **o mesmo haltere que estava anteriormente**, como havia 1 tique por segundo, havia 1 rotação por segundo, em 1 min 60 rotações => 60 rpm\n",
    "\n",
    "<img src=\"media/mcu-animation.gif\" alt=\"spinning chair with cellphone attached\" style=\"width:60%;\"/>\n"
   ]
  },
  {
   "cell_type": "markdown",
   "metadata": {},
   "source": [
    "\n",
    "## Aquisição de dados\n",
    "\n",
    "Ao realizar os experimentos contavamos com um celular para medir a aceleração, assim poderíamos medi-la e chegar a força centrípeda resultante, utilizando também uma medição feita no banquinho: o perímetro que o celular percorria a cada volta (149,5 cm)\n",
    "\n",
    "O celular em questão foi um samsung galaxy S7, usando o aplicativo physics toolbox. Desta forma tinhamos 3 acelerômetros, na vertical, na horizontal e de frente, cada um medindo a aceleração em intervalos inferiores a 1 milisegundo\n",
    "\n",
    "A unidade de medida dos dados é \"G force\", força g, que é a quantidade de vezes que a aceleração atual é maior 10 m/s², a aceleração que o campo gravitacional da terra, aplica em objetos ao nível do mar. O celular, em repouso sobre uma superfície plana, sempre indica 1 Gf (força g) em um dos eixos e 0 nos outros eixos.\n",
    "\n",
    "<img src=\"media/s7-eixos.png\" alt=\"celular samsung s7 com três setas indicando os eixos verical, horizontal e de profundidade\" style=\"width:35%; height:400px; float:left; margin-left:15%\" >\n",
    "\n",
    "<img src=\"media/physics-toolbox.jpg\" alt=\"celular samsung s7 com três setas indicando os eixos verical, horizontal e de profundidade\" style=\"width:20%; height:400px; margin-right:15%\" >\n",
    "\n",
    "\n",
    "Durante os experimentos buscamos deixar o celular \"de pé\", isto é, perpendicular ao chão, com a frente voltada para a parte externa da trajetória circular e com a sua parte mais alongada, o eixo Y, em direção ao teto. Desta forma seria possível observar a aceleração resultante da força centrípeda no eixo Z, e a velocidade constante poderia ser observada pelo acelerômetro do eixo X, sempre na direção do movimento.\n",
    "\n",
    "Assim, observando o eixo Z e X poderíamos constatar a força certípeda, e a velocidade constante que deveriam haver no experimento de movimento circular uniforme."
   ]
  },
  {
   "cell_type": "markdown",
   "metadata": {},
   "source": [
    "## Expectativas\n",
    "\n",
    "Colocar aqui as expectativas de medição dos acelerômetros, tanto no caso de 15 rpm como no caso de 60 rpm"
   ]
  }
 ],
 "metadata": {
  "kernelspec": {
   "display_name": "Python 3",
   "language": "python",
   "name": "python3"
  },
  "language_info": {
   "codemirror_mode": {
    "name": "ipython",
    "version": 3
   },
   "file_extension": ".py",
   "mimetype": "text/x-python",
   "name": "python",
   "nbconvert_exporter": "python",
   "pygments_lexer": "ipython3",
   "version": "3.7.3"
  }
 },
 "nbformat": 4,
 "nbformat_minor": 2
}
