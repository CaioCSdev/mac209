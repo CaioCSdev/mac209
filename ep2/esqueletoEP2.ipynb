{
    "cells": [{
        "cell_type": "markdown",
        "metadata": {
            "colab_type": "text",
            "id": "v0Ew6yESJU9U"
        },
        "source": ["NOMES E NUSP, MATÉRIA, ANO, CURSO"]
    }, {
        "cell_type":
        "markdown",
        "metadata": {
            "colab_type": "text",
            "id": "durGUUIZ89HQ"
        },
        "source": [
            "# INTRODUÇÃO GERAL\n", "\n",
            "- sistemas 2D a serem analizados (breve)\n", "\n",
            "- Euler e Euler Cromer\n", "\n", "\n", "\n", "---\n", "\n"
        ]
    }, {
        "cell_type": "markdown",
        "metadata": {
            "colab_type": "text",
            "id": "KgAXT-6e9Ri9"
        },
        "source": ["# EXPERIMENTO n\n"]
    }, {
        "cell_type":
        "markdown",
        "metadata": {
            "colab_type": "text",
            "id": "xBAbsHgF9aoI"
        },
        "source": [
            "## INTRODUÇÃO\n", "\n", "- natureza física do experimento\n",
            "- resultados esperados\n", "- objetivos"
        ]
    }, {
        "cell_type":
        "markdown",
        "metadata": {
            "colab_type": "text",
            "id": "ibWp3EV69qtR"
        },
        "source": [
            "## EXPERIMENTO\n", "\n", "- funcionamento\n", "\n",
            "- aquisição/coleta de dados"
        ]
    }, {
        "cell_type": "code",
        "execution_count": 1,
        "metadata": {
            "colab": {},
            "colab_type": "code",
            "id": "SXB74fCTEvP1"
        },
        "outputs": [],
        "source": ["## ANIMACAO"]
    }, {
        "cell_type":
        "markdown",
        "metadata": {
            "colab_type": "text",
            "id": "-sZ6FiJ-98nh"
        },
        "source": [
            "## MÉTODO\n", "\n",
            "- descrever o funcionamento do programa (recebe dados e faz o que? gera o que? como?)\n"
        ]
    }, {
        "cell_type":
        "code",
        "execution_count":
        0,
        "metadata": {
            "colab": {},
            "colab_type": "code",
            "id": "HOvcEcZk-Qbj"
        },
        "outputs": [],
        "source": [
            "#ANTES DE CADA FUNCAO, DESCREVER BREVEMENTE O QUE ELA FAZ\n",
            "#LEMBRANDO: UTILIZAR NOTACAO DO RELATORIO ( Xe(t), DELTAe(t), Ve(t), Ae(t), Xs(t), DELTAs(t), Vs(t), As(t)) -> imagino eu que: e=experimento,\n",
            "# s=simulado(euler? euler cromer?). pag 5\n",
            "#RECEBE: USUARIO QUER COM OU SEM AMORTECIMENTO (SE POSSIVEL) pag 4\n",
            "#DEVOLVE:\n",
            "##1) \"GRÁFICO PARA AS 5 REPETIÇÕES MOSTRANDO A VARIACAO DOS DADOS\" (GRAFICOS (soh os pontos?) SOBREPOSTOS?) E \"MOSTRE O SINAL MEDIO DAS 5 REPETICOES SOBREPOSTO\" pag 5\n",
            "#OBS: TALVEZ SEJA COMO DESCREVI NA ANALISE, SE FOR, TALVEZ NAO PRECISA DEVOLVER 1) DA ANALISE OU O 1) DESSE PROGRAMA MESMO\n",
            "##2) GRAFICOS SOBREPOSTOS DOS DADOS DO EXPERIMENTO E DOS DADOS SIMULADOS PARA EULER pag 5\n",
            "##3) GRAFICOS SOBREPOSTOS DOS DADOS DO EXPERIMENTO E DOS DADOS SIMULADOS PARA EULER CROMER pag 5"
        ]
    }, {
        "cell_type":
        "markdown",
        "metadata": {
            "colab_type": "text",
            "id": "ly-Z_2svDyan"
        },
        "source": [
            "## VERIFICAÇÃO DO PROGRAMA\n", "\n",
            "- explique porque o programa funciona mesmo para casos especiais e etc"
        ]
    }, {
        "cell_type":
        "markdown",
        "metadata": {
            "colab_type": "text",
            "id": "dEli27S_EJ8-"
        },
        "source": [
            "## DADOS\n", "\n",
            "- fotos da execução do programa para os dados do experimento"
        ]
    }, {
        "cell_type": "markdown",
        "metadata": {
            "colab_type": "text",
            "id": "RYHkEeRJGUQQ"
        },
        "source": ["## ANÁLISE\n"]
    }, {
        "cell_type":
        "code",
        "execution_count":
        0,
        "metadata": {
            "colab": {},
            "colab_type": "code",
            "id": "xOVuYmhHEZaZ"
        },
        "outputs": [],
        "source": [
            "#USA OS GRAFICOS GERADOS DO PRIMEIRO E GERA:\n",
            "##1) GRAFICO DAS 5 REPETIÇOES INDICANDO COMO DESVIARAM (imagino eu: tipo uma linha passando no meio e indicando quantificadamente o quao longe os pontos ficaram\n",
            "#     da linha, tipo um desvio padrao)\n",
            "##2) GRAFICO SOBREPOSTO DOS PONTOS, DO EULER E DO EULER CROMER SEM AMORTECIMENTO INDICANDO COMO DESVIARAM ENTRE SI (tipo desvio padrao? ainda nao sei)\n",
            "##3) GRAFICO SOBREPOSTO DOS PONTOS, DO EULER E DO EULER CROMER COM AMORTECIMENTO INDICANDO COMO DESVIARAM ENTRE SI (tipo desvio padrao? ainda nao sei)"
        ]
    }, {
        "cell_type":
        "markdown",
        "metadata": {
            "colab_type": "text",
            "id": "_km3bxLgIyt2"
        },
        "source":
        ["- fotos da execução do programa acima para os dados do experimento"]
    }, {
        "cell_type":
        "markdown",
        "metadata": {
            "colab_type": "text",
            "id": "a_oMsk4YGJ3E"
        },
        "source": [
            "## INTERPRETAÇÃO\n", "\n",
            "- resumo e explicação dos resultados da análise (lembrando de comparar o \"desvio\" do com e sem amortecimento, se houver)"
        ]
    }, {
        "cell_type":
        "markdown",
        "metadata": {
            "colab_type": "text",
            "id": "YzSt4FZzINXD"
        },
        "source": [
            "## CRÍTICA\n", "\n",
            "- opiniões sobre o experimento, alternativas, o que pode melhorar, o que aprendeu...."
        ]
    }, {
        "cell_type":
        "markdown",
        "metadata": {
            "colab_type": "text",
            "id": "gHd3hlAxIfA3"
        },
        "source": [
            "## LOG\n", "\n", "- quanto tempo levou cada atividade\n", "\n",
            "\n", "\n", "---\n", "\n"
        ]
    }, {
        "cell_type":
        "markdown",
        "metadata": {
            "colab_type": "text",
            "id": "I9qUNFEpHyXt"
        },
        "source": [
            "# CRÍTICA \n", "\n",
            "- opiniões e comentários sobre os experimentos e resultados\n",
            "\n", "- o que acharam do ep, etc"
        ]
    }, {
        "cell_type":
        "markdown",
        "metadata": {
            "colab_type": "text",
            "id": "68JOHifQI6q4"
        },
        "source": ["# LOG\n", "\n", "- quanto tempo levou cada experimento"]
    }],
    "metadata": {
        "colab": {
            "collapsed_sections": [],
            "name": "esqueletoEP2.ipynb",
            "provenance": [],
            "version": "0.3.2"
        },
        "kernelspec": {
            "display_name": "Python 3",
            "language": "python",
            "name": "python3"
        },
        "language_info": {
            "codemirror_mode": {
                "name": "ipython",
                "version": 3
            },
            "file_extension": ".py",
            "mimetype": "text/x-python",
            "name": "python",
            "nbconvert_exporter": "python",
            "pygments_lexer": "ipython3",
            "version": "3.7.3"
        }
    },
    "nbformat":
    4,
    "nbformat_minor":
    1
}
