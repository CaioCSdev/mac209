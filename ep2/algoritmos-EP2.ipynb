{
    "cells": [{
        "cell_type":
        "code",
        "execution_count":
        null,
        "metadata": {
            "colab": {},
            "colab_type": "code",
            "id": "9xAh1aRLoaXm"
        },
        "outputs": [],
        "source": [
            "import matplotlib.pyplot as plt\n", "import numpy as np\n", "\n",
            "\n", "#Euler method\n", "def Euler(xn, tn, dx):\n",
            "    return xn + dx(xn, tn) * dt\n", "\n", "\n",
            "#Euler Cromer method\n", "def EulerCromer(xn, tn, dx):\n",
            "    arr = dx(xn, tn)\n", "    arr2 = np.array([])\n",
            "    for index in reversed(range(len(arr))):\n",
            "        arr2 = np.append(arr2, xn[index] + arr[index] * dt)\n",
            "    arr2 = np.flip(arr2)\n", "    return arr2\n", "\n", "\n",
            "#Euler Richardson\n", "def EulerRichardson(xn, tn, dx):\n",
            "    xmid = xn + dx(xn, tn) * dt / 2\n",
            "    return xn + dx(xmid, tn + dt / 2) * dt\n", "\n", "\n",
            "#4th order Runge-Kutta\n", "def RK4(xn, tn, dx):\n",
            "    k1 = dx(xn, tn)\n",
            "    k2 = dx(xn + dt / 2 * k1, tn + dt / 2)\n",
            "    k3 = dx(xn + dt / 2 * k2, tn + dt / 2)\n",
            "    k4 = dx(xn + dt * k3, tn + dt)\n",
            "    return xn + dt * (k1 + 2 * k2 + 2 * k3 + k4) / 6\n", "\n",
            "\n", "#Numerical Solution\n",
            "#By default, RK4 is chosen, but fell free to change the method.\n",
            "\n", "\n",
            "def NDSolve(initv, tf, dt, dx, method='RK4', whenevent=None):\n",
            "    #arrays to save the data calculated\n", "    data = []\n",
            "    #initial values\n", "    state = initv\n",
            "    #loop of the integration\n",
            "    while (state[-1] < tf and (whenevent == None or whenevent(state))):\n",
            "        data.append(state)\n", "        #methods\n",
            "        if method == 'RK4':\n",
            "            state = RK4(state, state[-1], dx)\n",
            "        elif method == 'Euler':\n",
            "            state = Euler(state, state[-1], dx)\n",
            "        elif method == 'Euler-Cromer':\n",
            "            state = EulerCromer(state, state[-1], dx)\n",
            "        elif method == 'Euler-Richardson':\n",
            "            state = EulerRichardson(state, state[-1], dx)\n",
            "        else:\n",
            "            raise Exception('not valid method')\n",
            "    return data\n", "\n", "\n",
            "def showResults(sol, xlabel, ylabel, title):\n",
            "    plt.plot([state[-1] for state in sol], [state[0] for state in sol], 'r--')\n",
            "    plt.xlabel(xlabel)\n", "    plt.ylabel(ylabel)\n",
            "    plt.title(title)\n", "    plt.show()"
        ]
    }, {
        "cell_type":
        "code",
        "execution_count":
        null,
        "metadata": {
            "colab": {
                "base_uri": "https://localhost:8080/",
                "height": 1661
            },
            "colab_type": "code",
            "executionInfo": {
                "elapsed": 9622,
                "status": "ok",
                "timestamp": 1557103928351,
                "user": {
                    "displayName": "Vitor Daisuke Tamae",
                    "photoUrl": "",
                    "userId": "10747485226536958578"
                },
                "user_tz": 180
            },
            "id": "WT0veUIYg1rj",
            "outputId": "40a0c5b7-497b-446f-f47b-55ff5cfab3a2"
        },
        "outputs": [],
        "source": [
            "phenomenon = 'Inclined Plane'\n",
            "#analise feita no eixo tangencial\n", "\n", "#parameters\n", "\n",
            "#gravity\n", "g = 9.8\n", "\n", "#tilt\n", "theta = np.pi / 6\n",
            "\n", "#k friction\n", "mu = 0.3\n", "\n",
            "#initial position, tangent to plane\n", "xo = 10\n", "\n",
            "#initial velocity, tangent to plane\n", "vo = 5\n", "\n",
            "#stepsize\n", "dt = 10**(-2)\n", "\n", "#initial time\n",
            "to = 0\n", "\n", "#final time\n", "tf = 10\n", "\n",
            "init = np.array([xo, vo, to])\n", "\n", "\n",
            "#function returning Derivative of state vector.\n",
            "def dx(x, t):\n",
            "    a = -g * np.sin(theta) - np.sign(vo) * g * mu * np.cos(theta)\n",
            "    vel = x[1]\n", "    arr = np.array([])\n",
            "    arr = np.append(arr, vel)\n", "    arr = np.append(arr, a)\n",
            "    arr = np.append(arr, 1)\n", "    return arr\n", "\n", "\n",
            "sol = NDSolve(init, tf, dt, dx, 'Euler')\n",
            "sol2 = NDSolve(init, tf, dt, dx, 'Euler-Cromer')\n",
            "sol3 = NDSolve(init, tf, dt, dx, 'Euler-Richardson')\n",
            "sol4 = NDSolve(init, tf, dt, dx, 'RK4')\n", "\n", "\n",
            "#analitic\n", "def an(xo, vo, a, t):\n",
            "    s = xo + vo * t + a * t**2 / 2\n", "    return s\n", "\n",
            "\n",
            "a = -g * np.sin(theta) - np.sign(vo) * g * mu * np.cos(theta)\n",
            "solan = [[an(xo, vo, a, state[-1]), state[-1]] for state in sol]\n",
            "\n", "#plot\n",
            "showResults(sol, 'tempo', 'posicao', phenomenon + ' Euler')\n",
            "showResults(sol2, 'tempo', 'posicao', phenomenon + ' Euler-Cromer')\n",
            "showResults(sol3, 'tempo', 'posicao', phenomenon + ' Euler-Richardson')\n",
            "showResults(sol4, 'tempo', 'posicao', phenomenon + ' 4th-order Runge-Kutta')\n",
            "showResults(solan, 'tempo', 'posicao', phenomenon + ' analítico')\n",
            "plt.plot([state[-1] for state in sol], [state[0] for state in sol], 'r--',\n",
            "         [state[-1] for state in sol2], [state[0] for state in sol2], 'g--',\n",
            "         [state[-1] for state in sol3], [state[0] for state in sol3], 'c--',\n",
            "         [state[-1] for state in sol4], [state[0] for state in sol4], 'y--',\n",
            "         [state[-1] for state in solan], [state[0] for state in solan], 'm--')"
        ]
    }, {
        "cell_type":
        "code",
        "execution_count":
        null,
        "metadata": {
            "colab": {
                "base_uri": "https://localhost:8080/",
                "height": 1661
            },
            "colab_type": "code",
            "executionInfo": {
                "elapsed": 2787,
                "status": "ok",
                "timestamp": 1557103159011,
                "user": {
                    "displayName": "Vitor Daisuke Tamae",
                    "photoUrl": "",
                    "userId": "10747485226536958578"
                },
                "user_tz": 180
            },
            "id": "eDI4LnTUqQyB",
            "outputId": "10c21e0b-e15b-495c-e222-cfa563af6b7f"
        },
        "outputs": [],
        "source": [
            "phenomenon = 'SHO'  #Pendulum\n", "\n", "m = 0.05  #mass\n",
            "g = 9.8  #gravity\n", "l = 0.2  #length\n",
            "omega = np.sqrt(g / l)\n", "xo = 10  #init pos\n",
            "vo = 0  #init v\n", "dt = 5 * 10**(-3)  #stepsize\n",
            "to = 0  #init time\n", "tf = 10  #final time\n",
            "init = np.array([xo, vo, to])  #init state vector\n", "\n", "\n",
            "def dx(x, t):  #get derivatives function\n",
            "    a = -(omega**2) * x[0]\n", "    vel = x[1]\n",
            "    arr = np.array([])\n", "    arr = np.append(arr, vel)\n",
            "    arr = np.append(arr, a)\n", "    arr = np.append(arr, 1)\n",
            "    return arr\n", "\n", "\n",
            "#solution through different methods\n", "\n",
            "sol = NDSolve(init, tf, dt, dx, 'Euler')\n",
            "sol2 = NDSolve(init, tf, dt, dx, 'Euler-Cromer')\n",
            "sol3 = NDSolve(init, tf, dt, dx, 'Euler-Richardson')\n",
            "sol4 = NDSolve(init, tf, dt, dx, 'RK4')\n", "\n", "\n",
            "#analitic\n", "def an(xo, vo, t):\n",
            "    A = np.sqrt(((m * (omega * xo)**2) + (m * vo**2)) / (m * omega**2))\n",
            "    return A * np.sin(omega * t + np.arcsin(xo / A))\n", "\n",
            "\n",
            "solan = [[an(xo, vo, state[-1]), state[-1]] for state in sol]\n",
            "\n", "#plot\n",
            "showResults(sol, 'tempo', 'posicao', phenomenon + ' Euler')\n",
            "showResults(sol2, 'tempo', 'posicao', phenomenon + ' Euler-Cromer')\n",
            "showResults(sol3, 'tempo', 'posicao', phenomenon + ' Euler-Richardson')\n",
            "showResults(sol4, 'tempo', 'posicao', phenomenon + ' 4th-order Runge-Kutta')\n",
            "showResults(solan, 'tempo', 'posicao', phenomenon + ' analítico')\n",
            "plt.plot([state[-1] for state in sol], [state[0] for state in sol], 'r--',\n",
            "         [state[-1] for state in sol2], [state[0] for state in sol2], 'g--',\n",
            "         [state[-1] for state in sol3], [state[0] for state in sol3], 'c--',\n",
            "         [state[-1] for state in sol4], [state[0] for state in sol4], 'y--',\n",
            "         [state[-1] for state in solan], [state[0] for state in solan], 'm--')"
        ]
    }, {
        "cell_type":
        "code",
        "execution_count":
        null,
        "metadata": {
            "colab": {
                "base_uri": "https://localhost:8080/",
                "height": 1661
            },
            "colab_type": "code",
            "executionInfo": {
                "elapsed": 1780,
                "status": "ok",
                "timestamp": 1557103340656,
                "user": {
                    "displayName": "Vitor Daisuke Tamae",
                    "photoUrl": "",
                    "userId": "10747485226536958578"
                },
                "user_tz": 180
            },
            "id": "lVTPSG5bvXak",
            "outputId": "73772f2d-a0b0-4ebc-b98f-c6583a6b663b"
        },
        "outputs": [],
        "source": [
            "phenomenon = 'Oblique Throw'\n", "\n", "g = 9.8  #gravity\n",
            "theta = np.pi / 4  #tilt of initial v\n", "xo = 0  #init x pos\n",
            "yo = 0  #init y pos\n", "vo = 10  #init modulus of v\n",
            "dt = 10**(-2)  #stepsize\n", "to = 0  #init time\n",
            "tf = 10  #final time\n", "vox = vo * np.cos(theta)  #init vx\n",
            "voy = vo * np.sin(theta)  #init vy\n",
            "init = np.array([xo, yo, vox, voy, to])  #init state vec\n", "\n",
            "\n", "#get derivatives\n", "def dx(x, t):\n", "    ay = -g\n",
            "    vy = x[3]\n", "    vx = x[2]\n", "    arr = np.array([])\n",
            "    arr = np.append(arr, vx)\n", "    arr = np.append(arr, vy)\n",
            "    arr = np.append(arr, 0)\n", "    arr = np.append(arr, ay)\n",
            "    arr = np.append(arr, 1)\n", "    return arr\n", "\n", "\n",
            "#when hit ground, stop integration\n", "def whenevent(state):\n",
            "    if state[1] >= 0:\n", "        return True\n",
            "    return False\n", "\n", "\n", "#solutions\n", "\n",
            "sol = NDSolve(init, tf, dt, dx, 'Euler', whenevent)\n",
            "sol2 = NDSolve(init, tf, dt, dx, 'Euler-Cromer', whenevent)\n",
            "sol3 = NDSolve(init, tf, dt, dx, 'Euler-Richardson', whenevent)\n",
            "sol4 = NDSolve(init, tf, dt, dx, 'RK4', whenevent)\n", "\n", "\n",
            "#analitic\n", "def an(xo, yo, vox, voy, t):\n", "    res = []\n",
            "    x = xo + vox * t\n", "    y = yo + voy * t - g * t**2 / 2\n",
            "    res.append(x)\n", "    res.append(y)\n", "    return res\n",
            "\n", "\n", "solan = [[\n",
            "    an(xo, yo, vox, voy, state[-1])[0],\n",
            "    an(xo, yo, vox, voy, state[-1])[1], state[-1]\n",
            "] for state in sol]\n", "\n", "\n",
            "def showResults2(sol, xlabel, ylabel, title):\n",
            "    plt.plot([state[0] for state in sol], [state[1] for state in sol], 'r--')\n",
            "    plt.xlabel(xlabel)\n", "    plt.ylabel(ylabel)\n",
            "    plt.title(title)\n", "    plt.show()\n", "\n", "\n",
            "#plot\n", "showResults2(sol, 'x', 'y', phenomenon + ' Euler')\n",
            "showResults2(sol2, 'x', 'y', phenomenon + ' Euler-Cromer')\n",
            "showResults2(sol3, 'x', 'y', phenomenon + ' Euler-Richardson')\n",
            "showResults2(sol4, 'x', 'y', phenomenon + ' 4th-order Runge-Kutta')\n",
            "showResults2(solan, 'x', 'y', phenomenon + ' analítico')\n", "\n",
            "plt.plot([state[0] for state in sol], [state[1] for state in sol], 'r--',\n",
            "         [state[0] for state in sol2], [state[1] for state in sol2], 'g--',\n",
            "         [state[0] for state in sol3], [state[1] for state in sol3], 'c--',\n",
            "         [state[0] for state in sol4], [state[1] for state in sol4], 'y--',\n",
            "         [state[0] for state in solan], [state[1] for state in solan], 'm--')"
        ]
    }, {
        "cell_type":
        "code",
        "execution_count":
        null,
        "metadata": {
            "colab": {
                "base_uri": "https://localhost:8080/",
                "height": 1419
            },
            "colab_type": "code",
            "executionInfo": {
                "elapsed": 2055,
                "status": "ok",
                "timestamp": 1557106502538,
                "user": {
                    "displayName": "Vitor Daisuke Tamae",
                    "photoUrl": "",
                    "userId": "10747485226536958578"
                },
                "user_tz": 180
            },
            "id": "s8J1WAGNonRB",
            "outputId": "5de3fb5b-80f4-4f3b-dab4-d33e7956075d"
        },
        "outputs": [],
        "source": [
            "phenomenon = 'Circular Motion'\n", "\n",
            "thetao = np.pi / 4  #initial angle\n",
            "ro = 1  #initial radius\n",
            "vro = 0  #in mcu, radial velocity is always null\n",
            "vthetao = 1  #init angular velocity\n",
            "dt = 10**(-2)  #stepsize\n", "to = 0  #init time\n",
            "tf = 10  #final time\n",
            "init = np.array([ro, vro, thetao, vthetao, to])  #init state vec\n",
            "\n", "\n", "#get derivatives\n", "def dx(x, t):\n",
            "    arr = np.array([])\n", "    arr = np.append(arr, x[1])\n",
            "    arr = np.append(arr, 0)\n",
            "    #acceleration neither in radial, nor azimuthal direction\n",
            "    arr = np.append(arr, x[3])\n",
            "    arr = np.append(arr, 0)\n", "    arr = np.append(arr, 1)\n",
            "    return arr\n", "\n", "\n", "#solutions\n",
            "sol = NDSolve(init, tf, dt, dx, 'Euler')\n",
            "sol2 = NDSolve(init, tf, dt, dx, 'Euler-Cromer')\n",
            "sol3 = NDSolve(init, tf, dt, dx, 'Euler-Richardson')\n",
            "sol4 = NDSolve(init, tf, dt, dx, 'RK4')\n", "\n", "\n",
            "#analitic\n", "def an(ro, vro, thetao, vthetao, t):\n",
            "    res = []\n", "    r = ro + vro * t\n",
            "    theta = thetao + vthetao * t\n", "    res.append(r)\n",
            "    res.append(theta)\n", "    return res\n", "\n", "\n",
            "solan = [[\n",
            "    an(ro, vro, thetao, vthetao, state[-1])[0],\n",
            "    an(ro, vro, thetao, vthetao, state[-1])[1], state[-1]\n",
            "] for state in sol]\n", "\n", "print(solan)\n", "\n", "\n",
            "def showResults2(sol, xlabel, ylabel, title):\n",
            "    plt.plot([state[0] * np.cos(state[2]) for state in sol],\n",
            "             [state[0] * np.sin(state[2]) for state in sol], 'r--')\n",
            "    plt.xlabel(xlabel)\n", "    plt.ylabel(ylabel)\n",
            "    plt.title(title)\n", "    plt.show()\n", "\n", "\n",
            "#plot\n", "showResults2(sol, 'x', 'y', phenomenon + ' Euler')\n",
            "showResults2(sol2, 'x', 'y', phenomenon + ' Euler-Cromer')\n",
            "showResults2(sol3, 'x', 'y', phenomenon + ' Euler-Richardson')\n",
            "showResults2(sol4, 'x', 'y', phenomenon + ' 4th-order Runge-Kutta')\n",
            "\n", "plt.plot([state[0] * np.cos(state[2])\n",
            "          for state in sol], [state[0] * np.sin(state[2]) for state in sol],\n",
            "         'r--', [state[0] * np.cos(state[2]) for state in sol2],\n",
            "         [state[0] * np.sin(state[2]) for state in sol2], 'g--',\n",
            "         [state[0] * np.cos(state[2])\n",
            "          for state in sol3], [state[0] * np.sin(state[2])\n",
            "                               for state in sol3], 'c--',\n",
            "         [state[0] * np.cos(state[2])\n",
            "          for state in sol4], [state[0] * np.sin(state[2]) for state in sol4],\n",
            "         'y--', [state[0] * np.cos(state[1]) for state in solan],\n",
            "         [state[0] * np.sin(state[1]) for state in solan], 'm--')"
        ]
    }],
    "metadata": {
        "colab": {
            "collapsed_sections": [],
            "name": "Algoritmos EP2.ipynb",
            "provenance": [],
            "version": "0.3.2"
        },
        "kernelspec": {
            "display_name": "Python 3",
            "language": "python",
            "name": "python3"
        },
        "language_info": {
            "codemirror_mode": {
                "name": "ipython",
                "version": 3
            },
            "file_extension": ".py",
            "mimetype": "text/x-python",
            "name": "python",
            "nbconvert_exporter": "python",
            "pygments_lexer": "ipython3",
            "version": "3.7.3"
        }
    },
    "nbformat":
    4,
    "nbformat_minor":
    1
}
